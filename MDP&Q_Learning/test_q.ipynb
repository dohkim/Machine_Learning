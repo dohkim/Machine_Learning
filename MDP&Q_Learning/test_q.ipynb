{
 "cells": [
  {
   "cell_type": "code",
   "execution_count": 19,
   "metadata": {
    "collapsed": true
   },
   "outputs": [],
   "source": [
    "import gym\n",
    "import random\n",
    "import numpy as np\n",
    "import matplotlib.pyplot as plt"
   ]
  },
  {
   "cell_type": "code",
   "execution_count": 20,
   "outputs": [
    {
     "name": "stdout",
     "output_type": "stream",
     "text": [
      "\n",
      "\u001B[41mS\u001B[0mFFF\n",
      "FHFH\n",
      "FFFH\n",
      "HFFG\n"
     ]
    }
   ],
   "source": [
    "\n",
    "environment = gym.make(\"FrozenLake-v0\",is_slippery=False)\n",
    "environment.reset()\n",
    "environment.render()"
   ],
   "metadata": {
    "collapsed": false
   }
  },
  {
   "cell_type": "code",
   "execution_count": 21,
   "outputs": [
    {
     "name": "stdout",
     "output_type": "stream",
     "text": [
      "Q-table =\n",
      "[[0. 0. 0. 0.]\n",
      " [0. 0. 0. 0.]\n",
      " [0. 0. 0. 0.]\n",
      " [0. 0. 0. 0.]\n",
      " [0. 0. 0. 0.]\n",
      " [0. 0. 0. 0.]\n",
      " [0. 0. 0. 0.]\n",
      " [0. 0. 0. 0.]\n",
      " [0. 0. 0. 0.]\n",
      " [0. 0. 0. 0.]\n",
      " [0. 0. 0. 0.]\n",
      " [0. 0. 0. 0.]\n",
      " [0. 0. 0. 0.]\n",
      " [0. 0. 0. 0.]\n",
      " [0. 0. 0. 0.]\n",
      " [0. 0. 0. 0.]]\n"
     ]
    }
   ],
   "source": [
    "nb_states = environment.observation_space.n  # = 16\n",
    "nb_actions = environment.action_space.n      # = 4\n",
    "qtable = np.zeros((nb_states, nb_actions))\n",
    "\n",
    "# Let's see how it looks\n",
    "print('Q-table =')\n",
    "print(qtable)"
   ],
   "metadata": {
    "collapsed": false
   }
  },
  {
   "cell_type": "code",
   "execution_count": 22,
   "outputs": [
    {
     "name": "stdout",
     "output_type": "stream",
     "text": [
      "Q-table before training:\n",
      "[[0. 0. 0. 0.]\n",
      " [0. 0. 0. 0.]\n",
      " [0. 0. 0. 0.]\n",
      " [0. 0. 0. 0.]\n",
      " [0. 0. 0. 0.]\n",
      " [0. 0. 0. 0.]\n",
      " [0. 0. 0. 0.]\n",
      " [0. 0. 0. 0.]\n",
      " [0. 0. 0. 0.]\n",
      " [0. 0. 0. 0.]\n",
      " [0. 0. 0. 0.]\n",
      " [0. 0. 0. 0.]\n",
      " [0. 0. 0. 0.]\n",
      " [0. 0. 0. 0.]\n",
      " [0. 0. 0. 0.]\n",
      " [0. 0. 0. 0.]]\n",
      "\n",
      "===========================================\n",
      "Q-table after training:\n",
      "[[0.      0.59049 0.      0.     ]\n",
      " [0.      0.      0.      0.     ]\n",
      " [0.      0.      0.      0.     ]\n",
      " [0.      0.      0.      0.     ]\n",
      " [0.      0.6561  0.      0.     ]\n",
      " [0.      0.      0.      0.     ]\n",
      " [0.      0.      0.      0.     ]\n",
      " [0.      0.      0.      0.     ]\n",
      " [0.      0.      0.729   0.     ]\n",
      " [0.      0.      0.81    0.     ]\n",
      " [0.      0.9     0.      0.     ]\n",
      " [0.      0.      0.      0.     ]\n",
      " [0.      0.      0.      0.     ]\n",
      " [0.      0.      0.      0.     ]\n",
      " [0.      0.      1.      0.     ]\n",
      " [0.      0.      0.      0.     ]]\n"
     ]
    },
    {
     "data": {
      "text/plain": "<Figure size 640x480 with 1 Axes>",
      "image/png": "[encoded data removed]"
     },
     "metadata": {},
     "output_type": "display_data"
    }
   ],
   "source": [
    "import pdb\n",
    "# plt.rcParams['figure.dpi'] = 300\n",
    "# plt.rcParams.update({'font.size': 17})\n",
    "\n",
    "# We re-initialize the Q-table\n",
    "qtable = np.zeros((environment.observation_space.n, environment.action_space.n))\n",
    "\n",
    "# Hyperparameters\n",
    "episodes = 1000        # Total number of episodes\n",
    "alpha = 0.5            # Learning rate\n",
    "gamma = 0.9            # Discount factor\n",
    "\n",
    "# List of outcomes to plot\n",
    "outcomes = []\n",
    "rewards = []\n",
    "\n",
    "print('Q-table before training:')\n",
    "print(qtable)\n",
    "\n",
    "# Training\n",
    "for _ in range(episodes):\n",
    "    state = environment.reset()\n",
    "    done = False\n",
    "\n",
    "    # By default, we consider our outcome to be a failure\n",
    "    outcomes.append(\"Failure\")\n",
    "\n",
    "    # Until the agent gets stuck in a hole or reaches the goal, keep training it\n",
    "    while not done:\n",
    "        # Choose the action with the highest value in the current state\n",
    "        if np.max(qtable[state]) > 0:\n",
    "          action = np.argmax(qtable[state])\n",
    "\n",
    "        # If there's no best action (only zeros), take a random one\n",
    "        else:\n",
    "          action = environment.action_space.sample()\n",
    "\n",
    "        # Implement this action and move the agent in the desired direction\n",
    "        new_state, reward, done, info = environment.step(action)\n",
    "        # if done:\n",
    "        #     print(new_state, reward, done, info)\n",
    "        # Update Q(s,a)\n",
    "\n",
    "        qtable[state, action] = qtable[state, action] + \\\n",
    "                                alpha * (reward + gamma * np.max(qtable[new_state]) - qtable[state, action])\n",
    "        # Update our current state\n",
    "        state = new_state\n",
    "        rewards.append(np.mean(qtable))\n",
    "        # If we have a reward, it means that our outcome is a success\n",
    "        if reward:\n",
    "          outcomes[-1] = \"Success\"\n",
    "\n",
    "print()\n",
    "print('===========================================')\n",
    "print('Q-table after training:')\n",
    "print(qtable)\n",
    "\n",
    "# Plot outcomes\n",
    "plt.figure()\n",
    "plt.xlabel(\"Run number\")\n",
    "plt.ylabel(\"Outcome\")\n",
    "plt.bar(range(len(outcomes)), outcomes, width=0.1, edgecolor='blue', color='None')\n",
    "plt.show()\n",
    "# [\"LEFT\", \"DOWN\", \"RIGHT\", \"UP\"]\n",
    "# alpha: is the learning rate, set generally between 0 and 1. Setting the alpha value to 0 means that the Q-values are never updated, thereby nothing is learned. If we set the alpha to a high value such as 0.9, it means that the learning can occur quickly.\n",
    "#\n",
    "# gamma: It is the discount factor that is set between 0 and 1. This model the fact that future rewards are worth less than immediate rewards.\n"
   ],
   "metadata": {
    "collapsed": false
   }
  },
  {
   "cell_type": "code",
   "execution_count": 28,
   "outputs": [
    {
     "name": "stdout",
     "output_type": "stream",
     "text": [
      "0.06471254290724678\n",
      "0.07321234374999999\n"
     ]
    },
    {
     "data": {
      "text/plain": "<Figure size 640x480 with 1 Axes>",
      "image/png": "[encoded data removed]"
     },
     "metadata": {},
     "output_type": "display_data"
    }
   ],
   "source": [
    "plt.plot(rewards)\n",
    "print(np.mean(rewards))\n",
    "print(np.mean(qtable))"
   ],
   "metadata": {
    "collapsed": false
   }
  },
  {
   "cell_type": "code",
   "execution_count": 24,
   "outputs": [
    {
     "name": "stdout",
     "output_type": "stream",
     "text": [
      "Success rate = 100.0%\n"
     ]
    }
   ],
   "source": [
    "episodes = 100\n",
    "nb_success = 0\n",
    "# Evaluation\n",
    "for i in range(100):\n",
    "    state = environment.reset()\n",
    "    done = False\n",
    "    converged = 0\n",
    "\n",
    "    # Until the agent gets stuck or reaches the goal, keep training it\n",
    "    while not done:\n",
    "        # Choose the action with the highest value in the current state\n",
    "        if np.max(qtable[state]) > 0:\n",
    "          action = np.argmax(qtable[state])\n",
    "\n",
    "        # If there's no best action (only zeros), take a random one\n",
    "        else:\n",
    "          action = environment.action_space.sample()\n",
    "\n",
    "        # Implement this action and move the agent in the desired direction\n",
    "        new_state, reward, done, info = environment.step(action)\n",
    "\n",
    "        # Update our current state\n",
    "        state = new_state\n",
    "\n",
    "        # When we get a reward, it means we solved the game\n",
    "        nb_success += reward\n",
    "\n",
    "# Let's check our success rate!\n",
    "print (f\"Success rate = {nb_success/episodes*100}%\")"
   ],
   "metadata": {
    "collapsed": false
   }
  },
  {
   "cell_type": "code",
   "execution_count": 25,
   "outputs": [
    {
     "name": "stdout",
     "output_type": "stream",
     "text": [
      "  (Right)\n",
      "SFFF\n",
      "FHFH\n",
      "FFFH\n",
      "HFF\u001B[41mG\u001B[0m\n",
      "Sequence = [1, 1, 2, 2, 1, 2]\n"
     ]
    }
   ],
   "source": [
    "from IPython.display import clear_output\n",
    "import time\n",
    "\n",
    "state = environment.reset()\n",
    "done = False\n",
    "sequence = []\n",
    "\n",
    "while not done:\n",
    "    # Choose the action with the highest value in the current state\n",
    "    if np.max(qtable[state]) > 0:\n",
    "      action = np.argmax(qtable[state])\n",
    "\n",
    "    # If there's no best action (only zeros), take a random one\n",
    "    else:\n",
    "      action = environment.action_space.sample()\n",
    "\n",
    "    # Add the action to the sequence\n",
    "    sequence.append(action)\n",
    "\n",
    "    # Implement this action and move the agent in the desired direction\n",
    "    new_state, reward, done, info = environment.step(action)\n",
    "\n",
    "    # Update our current state\n",
    "    state = new_state\n",
    "\n",
    "    # Update the render\n",
    "    clear_output(wait=True)\n",
    "    environment.render()\n",
    "    time.sleep(1)\n",
    "\n",
    "print(f\"Sequence = {sequence}\")"
   ],
   "metadata": {
    "collapsed": false
   }
  },
  {
   "cell_type": "code",
   "execution_count": 26,
   "outputs": [
    {
     "ename": "SyntaxError",
     "evalue": "invalid syntax (1563753322.py, line 1)",
     "output_type": "error",
     "traceback": [
      "\u001B[1;36m  Input \u001B[1;32mIn [26]\u001B[1;36m\u001B[0m\n\u001B[1;33m    he parameters used in the Q-value update process are:\u001B[0m\n\u001B[1;37m       ^\u001B[0m\n\u001B[1;31mSyntaxError\u001B[0m\u001B[1;31m:\u001B[0m invalid syntax\n"
     ]
    }
   ],
   "source": [
    "he parameters used in the Q-value update process are:\n",
    "\n",
    " - the learning rate, set between 0 and 1. Setting it to 0 means that the Q-values are never updated, hence nothing is learned. Setting a high value such as 0.9 means that learning can occur quickly."
   ],
   "metadata": {
    "collapsed": false
   }
  }
 ],
 "metadata": {
  "kernelspec": {
   "display_name": "Python 3",
   "language": "python",
   "name": "python3"
  },
  "language_info": {
   "codemirror_mode": {
    "name": "ipython",
    "version": 2
   },
   "file_extension": ".py",
   "mimetype": "text/x-python",
   "name": "python",
   "nbconvert_exporter": "python",
   "pygments_lexer": "ipython2",
   "version": "2.7.6"
  }
 },
 "nbformat": 4,
 "nbformat_minor": 0
}
